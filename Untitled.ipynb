{
 "cells": [
  {
   "cell_type": "code",
   "execution_count": 1,
   "metadata": {},
   "outputs": [],
   "source": [
    "import os\n",
    "os.chdir('ai2thor')\n",
    "\n",
    "from ai2thor.controller import Controller"
   ]
  },
  {
   "cell_type": "code",
   "execution_count": 2,
   "metadata": {},
   "outputs": [
    {
     "name": "stderr",
     "output_type": "stream",
     "text": [
      "thor-OSXIntel64-3ec1e7a1f3c36819f4c2069b121595cc69cc8e8d: [ 100%   5.48 MB/s]  of 517.MB\n"
     ]
    }
   ],
   "source": [
    "c = Controller(scene='FloorPlan_Train1_1')"
   ]
  },
  {
   "cell_type": "code",
   "execution_count": 3,
   "metadata": {},
   "outputs": [
    {
     "data": {
      "text/plain": [
       "<ai2thor.server.Event at 0x10ccbca50>"
      ]
     },
     "execution_count": 3,
     "metadata": {},
     "output_type": "execute_result"
    }
   ],
   "source": [
    "c.step(action='ChangeResolution', x=224, y=224)"
   ]
  },
  {
   "cell_type": "code",
   "execution_count": 10,
   "metadata": {},
   "outputs": [
    {
     "data": {
      "text/plain": [
       "<ai2thor.server.Event at 0x10d55d6d0>"
      ]
     },
     "execution_count": 10,
     "metadata": {},
     "output_type": "execute_result"
    },
    {
     "name": "stderr",
     "output_type": "stream",
     "text": [
      "Exception in thread Thread-5:\n",
      "Traceback (most recent call last):\n",
      "  File \"/usr/local/Cellar/python/3.7.4_1/Frameworks/Python.framework/Versions/3.7/lib/python3.7/threading.py\", line 926, in _bootstrap_inner\n",
      "    self.run()\n",
      "  File \"/usr/local/Cellar/python/3.7.4_1/Frameworks/Python.framework/Versions/3.7/lib/python3.7/threading.py\", line 870, in run\n",
      "    self._target(*self._args, **self._kwargs)\n",
      "  File \"/Users/mattd/Dropbox/documents/ai2/test_thor/ai2thor/ai2thor/controller.py\", line 782, in _start_unity_thread\n",
      "    raise Exception(\"command: %s exited with %s\" % (command, returncode))\n",
      "Exception: command: ['/Users/mattd/.ai2thor/releases/thor-OSXIntel64-3ec1e7a1f3c36819f4c2069b121595cc69cc8e8d/thor-OSXIntel64-3ec1e7a1f3c36819f4c2069b121595cc69cc8e8d.app/Contents/MacOS/thor-OSXIntel64-3ec1e7a1f3c36819f4c2069b121595cc69cc8e8d', '-screen-fullscreen', '0', '-screen-quality', '7', '-screen-width', '300', '-screen-height', '300'] exited with -15\n",
      "\n"
     ]
    }
   ],
   "source": [
    "c.step(action='ChangeResolution', x=400, y=400)"
   ]
  },
  {
   "cell_type": "code",
   "execution_count": 5,
   "metadata": {},
   "outputs": [],
   "source": [
    "import time"
   ]
  },
  {
   "cell_type": "code",
   "execution_count": 9,
   "metadata": {},
   "outputs": [
    {
     "name": "stdout",
     "output_type": "stream",
     "text": [
      "20.069656133651733\n"
     ]
    }
   ],
   "source": [
    "start = time.time()\n",
    "for i in range(500):\n",
    "    c.step(action='MoveAhead')\n",
    "    c.step(action='MoveBack')\n",
    "end = time.time()\n",
    "print(end - start)"
   ]
  },
  {
   "cell_type": "code",
   "execution_count": null,
   "metadata": {},
   "outputs": [],
   "source": []
  }
 ],
 "metadata": {
  "kernelspec": {
   "display_name": "realtimeThor2",
   "language": "python",
   "name": "realtimethor2"
  },
  "language_info": {
   "codemirror_mode": {
    "name": "ipython",
    "version": 3
   },
   "file_extension": ".py",
   "mimetype": "text/x-python",
   "name": "python",
   "nbconvert_exporter": "python",
   "pygments_lexer": "ipython3",
   "version": "3.7.4"
  }
 },
 "nbformat": 4,
 "nbformat_minor": 4
}
